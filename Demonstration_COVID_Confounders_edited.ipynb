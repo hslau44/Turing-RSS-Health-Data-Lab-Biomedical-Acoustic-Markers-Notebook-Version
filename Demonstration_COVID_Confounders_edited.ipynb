{
  "nbformat": 4,
  "nbformat_minor": 0,
  "metadata": {
    "colab": {
      "provenance": [],
      "gpuType": "T4",
      "include_colab_link": true
    },
    "kernelspec": {
      "name": "python3",
      "display_name": "Python 3"
    },
    "language_info": {
      "name": "python"
    },
    "accelerator": "GPU"
  },
  "cells": [
    {
      "cell_type": "markdown",
      "metadata": {
        "id": "view-in-github",
        "colab_type": "text"
      },
      "source": [
        "<a href=\"https://colab.research.google.com/github/hslau44/Turing-RSS-Health-Data-Lab-Biomedical-Acoustic-Markers-Notebook-Version/blob/main/Demonstration_COVID_Confounders_edited.ipynb\" target=\"_parent\"><img src=\"https://colab.research.google.com/assets/colab-badge.svg\" alt=\"Open In Colab\"/></a>"
      ]
    },
    {
      "cell_type": "markdown",
      "source": [
        "# Audio-based AI classifiers show no evidence of improved COVID-19 screening over simple symptoms checkers - Demonstration Script\n",
        "\n",
        "**warning: this is NOT a COVID-19 diagnostic test, this demo is purely educational, does not provide any medical recommendation nor should any action be taken following use,  it serves as a supporting document for the paper.**\n",
        "\n",
        "This is demonstration of the main inference step, we also provide some additional explanable AI findings not included in the main paper.\n",
        "\n",
        "\n",
        "To speed up inference time, now is a good time to select a GPU, achieved through Runtime>Change runtime type and selecting a GPU."
      ],
      "metadata": {
        "id": "3f-2vaOQ3lGK"
      }
    },
    {
      "cell_type": "markdown",
      "source": [
        "Here is the setup of the code and materials needed to run the program"
      ],
      "metadata": {
        "id": "h7FBwB1h8591"
      }
    },
    {
      "cell_type": "code",
      "source": [
        "from IPython.core.display import os\n",
        "#@markdown **&larr;&larr;&larr;  Run this cell to setup the code**\n",
        "# To make plots appear in the notebook!\n",
        "%matplotlib inline\n",
        "\n",
        "# packages for recording audio in a notebook\n",
        "!pip install ffmpeg-python --quiet\n",
        "from IPython.display import HTML, Audio\n",
        "from google.colab.output import eval_js\n",
        "from base64 import b64decode\n",
        "import numpy as np\n",
        "from scipy.io.wavfile import read as wav_read\n",
        "from scipy.io.wavfile import write as wav_write\n",
        "import io\n",
        "import os\n",
        "from pathlib import Path\n",
        "import ffmpeg\n",
        "import matplotlib.pyplot as plt\n",
        "\n",
        "\n",
        "# packages for the model inference step:\n",
        "!pip install timm==0.4.5 --quiet\n",
        "\n",
        "if not os.path.exists('Turing-RSS-Health-Data-Lab-Biomedical-Acoustic-Markers'):\n",
        "  !git clone --recurse-submodules https://github.com/alan-turing-institute/Turing-RSS-Health-Data-Lab-Biomedical-Acoustic-Markers.git --quiet\n",
        "\n",
        "import sys\n",
        "sys.path.append('/content/Turing-RSS-Health-Data-Lab-Biomedical-Acoustic-Markers')\n",
        "from ssast_ciab.src.finetune.ciab.demonstration import main_demo\n",
        "\n",
        "AUDIO_HTML = \"\"\"\n",
        "<script>\n",
        "var my_div = document.createElement(\"DIV\");\n",
        "var my_p = document.createElement(\"P\");\n",
        "var my_btn = document.createElement(\"BUTTON\");\n",
        "var t = document.createTextNode(\"Press to start recording\");\n",
        "\n",
        "my_btn.appendChild(t);\n",
        "//my_p.appendChild(my_btn);\n",
        "my_div.appendChild(my_btn);\n",
        "document.body.appendChild(my_div);\n",
        "\n",
        "var base64data = 0;\n",
        "var reader;\n",
        "var recorder, gumStream;\n",
        "var recordButton = my_btn;\n",
        "\n",
        "var handleSuccess = function(stream) {\n",
        "  gumStream = stream;\n",
        "  var options = {\n",
        "    //bitsPerSecond: 8000, //chrome seems to ignore, always 48k\n",
        "    mimeType : 'audio/webm;codecs=opus'\n",
        "    //mimeType : 'audio/webm;codecs=pcm'\n",
        "  };\n",
        "  //recorder = new MediaRecorder(stream, options);\n",
        "  recorder = new MediaRecorder(stream);\n",
        "  recorder.ondataavailable = function(e) {\n",
        "    var url = URL.createObjectURL(e.data);\n",
        "    var preview = document.createElement('audio');\n",
        "    preview.controls = true;\n",
        "    preview.src = url;\n",
        "    document.body.appendChild(preview);\n",
        "\n",
        "    reader = new FileReader();\n",
        "    reader.readAsDataURL(e.data);\n",
        "    reader.onloadend = function() {\n",
        "      base64data = reader.result;\n",
        "      //console.log(\"Inside FileReader:\" + base64data);\n",
        "    }\n",
        "  };\n",
        "  recorder.start();\n",
        "  };\n",
        "\n",
        "recordButton.innerText = \"Recording... press to stop\";\n",
        "\n",
        "navigator.mediaDevices.getUserMedia({audio: true}).then(handleSuccess);\n",
        "\n",
        "\n",
        "function toggleRecording() {\n",
        "  if (recorder && recorder.state == \"recording\") {\n",
        "      recorder.stop();\n",
        "      gumStream.getAudioTracks()[0].stop();\n",
        "      recordButton.innerText = \"Saving the recording... pls wait!\"\n",
        "  }\n",
        "}\n",
        "\n",
        "// https://stackoverflow.com/a/951057\n",
        "function sleep(ms) {\n",
        "  return new Promise(resolve => setTimeout(resolve, ms));\n",
        "}\n",
        "\n",
        "var data = new Promise(resolve=>{\n",
        "//recordButton.addEventListener(\"click\", toggleRecording);\n",
        "recordButton.onclick = ()=>{\n",
        "toggleRecording()\n",
        "\n",
        "sleep(2000).then(() => {\n",
        "  // wait 2000ms for the data to be available...\n",
        "  // ideally this should use something like await...\n",
        "  //console.log(\"Inside data:\" + base64data)\n",
        "  resolve(base64data.toString())\n",
        "\n",
        "});\n",
        "\n",
        "}\n",
        "});\n",
        "\n",
        "</script>\n",
        "\"\"\"\n",
        "\n",
        "def get_audio():\n",
        "  display(HTML(AUDIO_HTML))\n",
        "  data = eval_js(\"data\")\n",
        "  binary = b64decode(data.split(',')[1])\n",
        "\n",
        "  process = (ffmpeg\n",
        "    .input('pipe:0')\n",
        "    .output('pipe:1', format='wav')\n",
        "    .run_async(pipe_stdin=True, pipe_stdout=True, pipe_stderr=True, quiet=True, overwrite_output=True)\n",
        "  )\n",
        "  output, err = process.communicate(input=binary)\n",
        "\n",
        "  riff_chunk_size = len(output) - 8\n",
        "  # Break up the chunk size into four bytes, held in b.\n",
        "  q = riff_chunk_size\n",
        "  b = []\n",
        "  for i in range(4):\n",
        "      q, r = divmod(q, 256)\n",
        "      b.append(r)\n",
        "\n",
        "  # Replace bytes 4:8 in proc.stdout with the actual size of the RIFF chunk.\n",
        "  riff = output[:4] + bytes(b) + output[8:]\n",
        "\n",
        "  sr, audio = wav_read(io.BytesIO(riff))\n",
        "\n",
        "  return audio, sr\n",
        "\n",
        "print(\"Setup Completed\")"
      ],
      "metadata": {
        "id": "0nPUGZg185cX",
        "cellView": "form"
      },
      "execution_count": null,
      "outputs": []
    },
    {
      "cell_type": "markdown",
      "source": [
        "### Now it is time to record your audio!"
      ],
      "metadata": {
        "id": "vg_m07rm6LZP"
      }
    },
    {
      "cell_type": "markdown",
      "source": [
        "Depending on your selection please follow the below instructions for recording your respiratory sounds:\n",
        "\n",
        "- **Sentence**: Record a sentence “I love nothing more than an afternoon cream tea.” This sentence contains some key sounds (‘aaah’, ‘oooh’, ‘eee’) which may help to indicate your respiratory health Press the Record button, and read the following sentence: “I love nothing more than an afternoon cream tea.” Use the Stop button to stop recording.\n",
        "\n",
        "- **Exhalation**: Record a 'ha' sound Please make this\n",
        "recording in a quiet environment. Press the\n",
        "Record button, and breathe out loudly three\n",
        "times, making a ‘ha’ sound, as if you were\n",
        "trying to fog up a window, or see your breath\n",
        "in cold weather. Use the Stop button to stop\n",
        "recording. You will see an audio player, which\n",
        "you can use to playback your recording. Breathe out loudly three times, making\n",
        "a ‘ha’ sound, as if you were trying to fog up a\n",
        "window, or see your breath in cold weather.\n",
        "Press the Record button to begin recording\n",
        "\n",
        "- **Cough**: Record a cough. Coughing is a potential risk\n",
        "to others around you. Make sure you are\n",
        "alone in a room or vehicle when coughing.\n",
        "For this recording, move an arm’s length\n",
        "away from your desktop computer, laptop,\n",
        "phone or tablet. Press the Record button, and\n",
        "cough, forcing a cough if it doesn’t come\n",
        "naturally. Use the Stop button to stop\n",
        "recording. You will see an audio player, which\n",
        "you can use to playback your recording. Cough once — with your desktop\n",
        "computer, laptop, phone or tablet an arm’s\n",
        "length away from you.\n",
        "\n",
        "- **Three cough**: Record three coughs Coughing is a potential\n",
        "risk to others around you. Make sure you are\n",
        "alone in a room or vehicle when coughing.\n",
        "For this recording, move an arm’s length\n",
        "away from your desktop computer, laptop,\n",
        "phone or tablet. Press the Record button, and\n",
        "cough three times. Cough three times — with\n",
        "your desktop computer, laptop, phone or\n",
        "tablet an arm’s length away from you."
      ],
      "metadata": {
        "id": "cFWR1WQH8z8G"
      }
    },
    {
      "cell_type": "code",
      "source": [
        "#@markdown **&larr;&larr;&larr; Select the modality you would like to test from the drop down menu below and run this cell**\n",
        "modality = 'sentence' #@param [\"sentence\", \"three_cough\", \"cough\", \"exhalation\"]"
      ],
      "metadata": {
        "id": "RqO-KduA7u_S",
        "cellView": "form"
      },
      "execution_count": null,
      "outputs": []
    },
    {
      "cell_type": "code",
      "source": [
        "#@markdown **&larr;&larr;&larr; Run this cell will immediately start the recording, press the button to stop the recording, you can rerun this cell to make recording again**\n",
        "audio, sr = get_audio()\n",
        "Path(\"/content/demo\").mkdir(parents=True, exist_ok=True)\n",
        "wav_write('/content/demo/sample_1', sr, audio)"
      ],
      "metadata": {
        "id": "giQTg9YoGBpI",
        "cellView": "form"
      },
      "execution_count": null,
      "outputs": []
    },
    {
      "cell_type": "code",
      "source": [
        "#@markdown **&larr;&larr;&larr; You can run this cell to see your voice in waveform**\n",
        "\n",
        "plt.figure(figsize=(15,5))\n",
        "plt.plot(audio)\n",
        "plt.show()"
      ],
      "metadata": {
        "id": "hy7ArCpYGPEy",
        "cellView": "form"
      },
      "execution_count": null,
      "outputs": []
    },
    {
      "cell_type": "code",
      "source": [
        "#@markdown **&larr;&larr;&larr; Please run this cell to setup the AI model associated with your selected modality**\n",
        "import gdown\n",
        "print(f'Downloading the {modality} modality model')\n",
        "if modality == 'sentence':\n",
        "  !gdown --folder https://drive.google.com/drive/folders/1Kb04tyDUaSCUDjLdC4EjzKzSIhMocQnw?usp=share_link --quiet\n",
        "elif modality == 'exhalation':\n",
        "  !gdown --folder https://drive.google.com/drive/folders/17GEBwClHYFhKWnZ6DpfhasFfG5RCC6mD?usp=share_link\n",
        "elif modality == 'cough':\n",
        "  !gdown --folder https://drive.google.com/drive/folders/1WWw4BNUobhi9Jm9Vl5WhFxLkktIObCtP?usp=share_link\n",
        "elif modality == 'three_cough':\n",
        "  !gdown --folder https://drive.google.com/drive/folders/1FszBlApEzEcdVNMKdHZx8i9hYB2pbtH6?usp=share_link\n",
        "else:\n",
        "  raise AssertionError(f'{modality} is not a modality which we investigated.')\n",
        "print('Download Completed')"
      ],
      "metadata": {
        "id": "2YaxT88ThpZI",
        "cellView": "form"
      },
      "execution_count": null,
      "outputs": []
    },
    {
      "cell_type": "code",
      "source": [
        "#@markdown **&larr;&larr;&larr; Finally run this cell to let the AI to analyse your voice**\n",
        "main_demo(\n",
        "    f'/content/{modality}/',\n",
        "    '/content/demo/sample_1',\n",
        "    name='sample_1')"
      ],
      "metadata": {
        "id": "3Mq-CLuMdt42",
        "cellView": "form"
      },
      "execution_count": null,
      "outputs": []
    }
  ]
}